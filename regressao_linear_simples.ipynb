{
 "cells": [
  {
   "cell_type": "code",
   "execution_count": 4,
   "id": "8b9e801c-6d7d-4922-b585-6491d4ffaf34",
   "metadata": {},
   "outputs": [],
   "source": [
    "#importação das bibliotecas: sklearn para criar modelo de regressão e yellowbrick para visualização de residuais\n",
    "import pandas as pd\n",
    "import numpy as np\n",
    "import matplotlib.pyplot as plt\n",
    "from sklearn.linear_model import LinearRegression\n",
    "#warning\n",
    "#from yellowbrick.regressor import ResidualsPlot"
   ]
  },
  {
   "cell_type": "code",
   "execution_count": null,
   "id": "66a46e8d-66fb-49cd-bdab-4e4ade1574b1",
   "metadata": {},
   "outputs": [],
   "source": [
    "#carregamento da base de dados e exclusão da primeira coluna\n",
    "base = pd.read_csv('cars.csv')\n",
    "base.shape"
   ]
  },
  {
   "cell_type": "code",
   "execution_count": null,
   "id": "871b2396-a238-40b4-b25b-196910e5ab6e",
   "metadata": {},
   "outputs": [],
   "source": [
    "base.head()"
   ]
  },
  {
   "cell_type": "code",
   "execution_count": null,
   "id": "2fba8fd7-fcbf-4a38-be3a-02072e4d13a3",
   "metadata": {},
   "outputs": [],
   "source": [
    "base = base.drop(['Unnamed: 0'], axis = 1)\n",
    "base.head()"
   ]
  },
  {
   "cell_type": "code",
   "execution_count": null,
   "id": "f3a9c734-174d-4623-8401-d73f4992d7f5",
   "metadata": {},
   "outputs": [],
   "source": [
    "#definição das variáveis X e Y: X é a variável independente e Y é a variável dependente\n",
    "X = base.iloc[:, 1].values\n",
    "y = base.iloc[:, 0].values\n",
    "X"
   ]
  },
  {
   "cell_type": "code",
   "execution_count": null,
   "id": "5b6a4042-6cef-4b10-87d0-311bea6393dd",
   "metadata": {},
   "outputs": [],
   "source": [
    "#Cálculo da correlação entre X e Y\n",
    "correlacao = np.corrcoef(x, y)\n",
    "correlacao"
   ]
  },
  {
   "cell_type": "code",
   "execution_count": null,
   "id": "4c72e133-05d6-478c-badd-d6611edcd96c",
   "metadata": {},
   "outputs": [],
   "source": []
  },
  {
   "cell_type": "code",
   "execution_count": null,
   "id": "626d46d7-0492-4c46-b447-2eb8a2fe4297",
   "metadata": {},
   "outputs": [],
   "source": []
  },
  {
   "cell_type": "code",
   "execution_count": null,
   "id": "851c30d9-99c8-4463-8593-c4bbba106908",
   "metadata": {},
   "outputs": [],
   "source": []
  },
  {
   "cell_type": "code",
   "execution_count": null,
   "id": "6652e7c9-7bc9-4422-b8bd-10451dbabc85",
   "metadata": {},
   "outputs": [],
   "source": []
  },
  {
   "cell_type": "code",
   "execution_count": null,
   "id": "85c90379-d12a-4399-ae4d-0071bdae3076",
   "metadata": {},
   "outputs": [],
   "source": []
  },
  {
   "cell_type": "code",
   "execution_count": null,
   "id": "a8a381ac-f1ea-47b3-9c44-de41d73174b3",
   "metadata": {},
   "outputs": [],
   "source": []
  },
  {
   "cell_type": "code",
   "execution_count": null,
   "id": "130b44c5-43c9-4373-906a-698144addbb8",
   "metadata": {},
   "outputs": [],
   "source": []
  }
 ],
 "metadata": {
  "kernelspec": {
   "display_name": "Python 3 (ipykernel)",
   "language": "python",
   "name": "python3"
  },
  "language_info": {
   "codemirror_mode": {
    "name": "ipython",
    "version": 3
   },
   "file_extension": ".py",
   "mimetype": "text/x-python",
   "name": "python",
   "nbconvert_exporter": "python",
   "pygments_lexer": "ipython3",
   "version": "3.12.4"
  }
 },
 "nbformat": 4,
 "nbformat_minor": 5
}
