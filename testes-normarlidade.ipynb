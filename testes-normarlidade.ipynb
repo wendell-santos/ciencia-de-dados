{
 "cells": [
  {
   "cell_type": "code",
   "execution_count": null,
   "id": "032e4ab3-108b-44c9-bbd1-707869a37bdf",
   "metadata": {},
   "outputs": [],
   "source": [
    "#Importação de bibliotecas\n",
    "#Matplotlib é para geração de gráficos\n",
    "from scipy import stats\n",
    "from scipy.stats import norm, skewnorm"
   ]
  },
  {
   "cell_type": "code",
   "execution_count": null,
   "id": "f3dee121-9887-4888-8615-6519ebb34968",
   "metadata": {},
   "outputs": [],
   "source": [
    "#Criação de uma variável com dados em uma distribuição normal com a função rvs (100 elementos)\n",
    "dados = norm.rvs(size = 1000)\n",
    "dados"
   ]
  },
  {
   "cell_type": "code",
   "execution_count": null,
   "id": "993b480f-85e9-4700-a15d-88fe7656f45e",
   "metadata": {},
   "outputs": [],
   "source": [
    "#histograma\n",
    "plt.hist(dados, bins = 20)\n",
    "plt.title('Dados')"
   ]
  },
  {
   "cell_type": "code",
   "execution_count": null,
   "id": "30e380a4-cdbc-4a68-be2a-89f1e63e09a4",
   "metadata": {},
   "outputs": [],
   "source": [
    "#Geração de gráfico para verificar se a distribuição é normal\n",
    "fig, ax = plt.subplots()\n",
    "stats.probplot(dados, fit = True, plot = ax)\n",
    "plt.show()"
   ]
  },
  {
   "cell_type": "code",
   "execution_count": 9,
   "id": "7e0f0a60-7106-4087-ac1c-affdb15a515a",
   "metadata": {},
   "outputs": [],
   "source": [
    "#dados não normais"
   ]
  },
  {
   "cell_type": "code",
   "execution_count": null,
   "id": "1b0f0aaa-9ecf-4cf4-acac-e3df0bf0d1d4",
   "metadata": {},
   "outputs": [],
   "source": []
  },
  {
   "cell_type": "code",
   "execution_count": null,
   "id": "73ccc3ab-78ee-4334-985c-09ebcf9384de",
   "metadata": {},
   "outputs": [],
   "source": []
  }
 ],
 "metadata": {
  "kernelspec": {
   "display_name": "Python 3 (ipykernel)",
   "language": "python",
   "name": "python3"
  },
  "language_info": {
   "codemirror_mode": {
    "name": "ipython",
    "version": 3
   },
   "file_extension": ".py",
   "mimetype": "text/x-python",
   "name": "python",
   "nbconvert_exporter": "python",
   "pygments_lexer": "ipython3",
   "version": "3.12.4"
  }
 },
 "nbformat": 4,
 "nbformat_minor": 5
}
