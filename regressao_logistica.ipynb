{
 "cells": [
  {
   "cell_type": "code",
   "execution_count": 7,
   "id": "d4fd82ab-921b-4c62-8d6b-5657eae08c8e",
   "metadata": {},
   "outputs": [],
   "source": [
    "#importação das bibliotecas\n",
    "import pandas as pd\n",
    "import matplotlib.pyplot as plt\n",
    "import numpy as np\n",
    "from sklearn.linear_model import LogisticRegression"
   ]
  },
  {
   "cell_type": "code",
   "execution_count": null,
   "id": "5eaf5627-b374-498c-a7e3-8d3eeb0ae3a5",
   "metadata": {},
   "outputs": [],
   "source": [
    "#carregamentos da base de dados, visualização de gráfico com os pontos e visualização de estatísticas\n",
    "base = pd.read_csv('Eleicao.csv', sep = ';')\n",
    "plt.scatter(base.DESPESAS, base.SITUACAO)\n",
    "base.describe()"
   ]
  },
  {
   "cell_type": "code",
   "execution_count": null,
   "id": "fd88d8b9-30bb-4535-9f39-728854830d72",
   "metadata": {},
   "outputs": [],
   "source": [
    "#visualização do coeficiente de correlação entre o atributo \"despesas\" e \"situação\"\n",
    "np.corrcoef(base.DESPESAS, base.SITUACAO)"
   ]
  },
  {
   "cell_type": "code",
   "execution_count": null,
   "id": "c3dde4b8-4ec4-41b8-a909-9ebd33380a7d",
   "metadata": {},
   "outputs": [],
   "source": [
    "#criação das variáveis X e y (variável dependente e variável independente)\n",
    "#Transformação de X para o formato de matriz adicionando um novo eixo (newaxis)\n",
    "X = base.iloc[:, 2].values\n",
    "X = X[:, np.newaxis]\n",
    "y = base.iloc[:, 1].values\n",
    "X"
   ]
  },
  {
   "cell_type": "code",
   "execution_count": null,
   "id": "f01958fa-a41b-405b-aca3-bf8bea5c0f23",
   "metadata": {},
   "outputs": [],
   "source": [
    "#Criação do modelo, treinamento e visualização dos coeficientes\n",
    "modelo = LogisticRegression()\n",
    "modelo.fit(X, y)\n",
    "modelo.coef_\n",
    "modelo.intercept_"
   ]
  },
  {
   "cell_type": "code",
   "execution_count": null,
   "id": "c29a76c1-afb9-4a21-aeeb-56e6a03d4f77",
   "metadata": {},
   "outputs": [],
   "source": [
    "plt.scatter(X, y)\n",
    "#Geração de novos dados para gerar a função sigmoide\n",
    "X_teste = np.linspace(10, 3000, 100)\n",
    "#Implementação da função sigmoide\n",
    "def model(x):\n",
    "    return 1 / (1 + np.exp(-x))\n",
    "#Geração de previsões (variável r) e visualização dos resultados\n",
    "r = model(X_teste * modelo.coef_ + modelo.intercept_).ravel()\n",
    "plt.plot(X_teste, r, color = 'red')"
   ]
  },
  {
   "cell_type": "code",
   "execution_count": null,
   "id": "f6cd2fac-0622-484a-863a-e2cc7c1be9c3",
   "metadata": {},
   "outputs": [],
   "source": [
    "#carregamento da base de dados\n",
    "base_previsoes = pd.read_csv('NovosCandidatos.csv', sep = ';')\n",
    "bse_previsoes"
   ]
  },
  {
   "cell_type": "code",
   "execution_count": null,
   "id": "bebedb60-6128-4dad-a303-a11df35fef68",
   "metadata": {},
   "outputs": [],
   "source": [
    "#Mudança dos dados para formato de matriz\n",
    "despesas = base_previsoes.iloc[:, 1].values\n",
    "despesas = despesas.reshape(-1, 1)"
   ]
  },
  {
   "cell_type": "code",
   "execution_count": null,
   "id": "cc3abfb1-8869-4645-b065-c16ddcc93be1",
   "metadata": {},
   "outputs": [],
   "source": []
  },
  {
   "cell_type": "code",
   "execution_count": null,
   "id": "9d3667b7-37ba-4793-9bf3-d86552cd1de9",
   "metadata": {},
   "outputs": [],
   "source": []
  },
  {
   "cell_type": "code",
   "execution_count": null,
   "id": "d9bcd0ca-5379-4462-87f8-2628759f34dc",
   "metadata": {},
   "outputs": [],
   "source": []
  },
  {
   "cell_type": "code",
   "execution_count": null,
   "id": "cde971cd-e451-4fed-bbfb-09203e7725b1",
   "metadata": {},
   "outputs": [],
   "source": []
  }
 ],
 "metadata": {
  "kernelspec": {
   "display_name": "Python 3 (ipykernel)",
   "language": "python",
   "name": "python3"
  },
  "language_info": {
   "codemirror_mode": {
    "name": "ipython",
    "version": 3
   },
   "file_extension": ".py",
   "mimetype": "text/x-python",
   "name": "python",
   "nbconvert_exporter": "python",
   "pygments_lexer": "ipython3",
   "version": "3.12.4"
  }
 },
 "nbformat": 4,
 "nbformat_minor": 5
}
