{
 "cells": [
  {
   "cell_type": "code",
   "execution_count": 17,
   "id": "438f228f-15a4-4838-b235-399b9a172164",
   "metadata": {},
   "outputs": [
    {
     "ename": "SyntaxError",
     "evalue": "invalid syntax (1621348132.py, line 5)",
     "output_type": "error",
     "traceback": [
      "\u001b[1;36m  Cell \u001b[1;32mIn[17], line 5\u001b[1;36m\u001b[0m\n\u001b[1;33m    from pandas.plotting import register.matplotlib.converters\u001b[0m\n\u001b[1;37m                                        ^\u001b[0m\n\u001b[1;31mSyntaxError\u001b[0m\u001b[1;31m:\u001b[0m invalid syntax\n"
     ]
    }
   ],
   "source": [
    "import pandas as pd\n",
    "import numpy as np\n",
    "import matplotlib.pylab as plt\n",
    "#registros de converters para uso do matplotlib\n",
    "from pandas.plotting import register.matplotlib.converters\n",
    "register.matplotlib_converters()"
   ]
  },
  {
   "cell_type": "code",
   "execution_count": null,
   "id": "607ca097-0426-45e9-87af-0f66ae1bd873",
   "metadata": {},
   "outputs": [],
   "source": [
    "#Carregamento da base de dados\n",
    "base = pd.read_csv('AirPassengers.csv')\n",
    "base.head()"
   ]
  },
  {
   "cell_type": "code",
   "execution_count": null,
   "id": "b42fcad2-fb77-4483-bf93-25b5dded7cce",
   "metadata": {},
   "outputs": [],
   "source": [
    "#Visualização do tipo de dados dos atributos\n",
    "print(base.dtypes)"
   ]
  },
  {
   "cell_type": "code",
   "execution_count": null,
   "id": "217b67a0-0bc2-43c4-b5c6-97001794d4d3",
   "metadata": {},
   "outputs": [],
   "source": [
    "#Conversão dos atributos que estão no formato string para o formato de data: ANO-MÊS\n",
    "dateparse = lambda dates: datetime.srptime(dates, '%Y-%m')\n",
    "base = pd.read_csv('AirPassengers.csv', parse_dates = ['Month'],\n",
    "                   index_col = 'Month', date_parser = dateparse)\n",
    "base"
   ]
  },
  {
   "cell_type": "code",
   "execution_count": null,
   "id": "8b33d012-e0b4-420a-8685-36e064dc85e2",
   "metadata": {},
   "outputs": [],
   "source": [
    "#Visualização do índice do dataframe (#Parssengers)\n",
    "base.index"
   ]
  },
  {
   "cell_type": "code",
   "execution_count": 10,
   "id": "646f5389-3ba7-4c3a-9412-acf6e26a64e7",
   "metadata": {},
   "outputs": [],
   "source": [
    "#Criação da série temporal (ts)\n",
    "ts = base['Passengers']\n",
    "ts"
   ]
  },
  {
   "cell_type": "code",
   "execution_count": null,
   "id": "a8e507e1-6aec-40db-b9fa-90d7cf203841",
   "metadata": {},
   "outputs": [],
   "source": [
    "#Visualização de Regristro específico\n",
    "ts[1]"
   ]
  },
  {
   "cell_type": "code",
   "execution_count": null,
   "id": "c3326586-1fca-4e7f-8bc2-7ac1c3444c6a",
   "metadata": {},
   "outputs": [],
   "source": [
    "#Visualização por ano e mês\n",
    "ts['1949-02']"
   ]
  },
  {
   "cell_type": "code",
   "execution_count": null,
   "id": "d64cf2ca-fe95-4ec9-bf57-46bf33610b06",
   "metadata": {},
   "outputs": [],
   "source": [
    "#Visualização de data específica\n",
    "ts[datetime(1949, 2, 1)]"
   ]
  },
  {
   "cell_type": "code",
   "execution_count": null,
   "id": "089dc7fd-b28d-406d-b5e7-8fcf479509d0",
   "metadata": {},
   "outputs": [],
   "source": [
    "#Visualização de intervalos\n",
    "ts['1950-1-1':'1950-7-31']"
   ]
  },
  {
   "cell_type": "code",
   "execution_count": null,
   "id": "c4eed553-6322-48c4-8907-d4ff75a10954",
   "metadata": {},
   "outputs": [],
   "source": []
  },
  {
   "cell_type": "code",
   "execution_count": null,
   "id": "189d6f26-63ab-409a-8b3b-04ecea77b39c",
   "metadata": {},
   "outputs": [],
   "source": []
  },
  {
   "cell_type": "code",
   "execution_count": null,
   "id": "2baeb2fd-d35f-46f8-ab6d-b92a39d54b90",
   "metadata": {},
   "outputs": [],
   "source": []
  }
 ],
 "metadata": {
  "kernelspec": {
   "display_name": "Python 3 (ipykernel)",
   "language": "python",
   "name": "python3"
  },
  "language_info": {
   "codemirror_mode": {
    "name": "ipython",
    "version": 3
   },
   "file_extension": ".py",
   "mimetype": "text/x-python",
   "name": "python",
   "nbconvert_exporter": "python",
   "pygments_lexer": "ipython3",
   "version": "3.12.4"
  }
 },
 "nbformat": 4,
 "nbformat_minor": 5
}
